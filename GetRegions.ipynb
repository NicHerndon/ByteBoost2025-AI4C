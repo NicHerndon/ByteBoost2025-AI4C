{
 "cells": [
  {
   "cell_type": "markdown",
   "id": "0950d6e1",
   "metadata": {},
   "source": [
    "# Extract the regions of interest from the XML file"
   ]
  },
  {
   "cell_type": "code",
   "execution_count": 1,
   "id": "6299c54e",
   "metadata": {},
   "outputs": [],
   "source": [
    "import xml.etree.ElementTree as ET"
   ]
  },
  {
   "cell_type": "code",
   "execution_count": 2,
   "id": "3be5184a",
   "metadata": {},
   "outputs": [],
   "source": [
    "tree = ET.parse('patient_004_node_4.xml')\n",
    "root = tree.getroot()"
   ]
  },
  {
   "cell_type": "code",
   "execution_count": 3,
   "id": "29e64c9f",
   "metadata": {},
   "outputs": [
    {
     "data": {
      "text/plain": [
       "'ASAP_Annotations'"
      ]
     },
     "execution_count": 3,
     "metadata": {},
     "output_type": "execute_result"
    }
   ],
   "source": [
    "root.tag"
   ]
  },
  {
   "cell_type": "code",
   "execution_count": 4,
   "id": "f63440c8",
   "metadata": {},
   "outputs": [
    {
     "data": {
      "text/plain": [
       "{}"
      ]
     },
     "execution_count": 4,
     "metadata": {},
     "output_type": "execute_result"
    }
   ],
   "source": [
    "root.attrib"
   ]
  },
  {
   "cell_type": "code",
   "execution_count": null,
   "id": "34b3dd5a",
   "metadata": {},
   "outputs": [
    {
     "name": "stdout",
     "output_type": "stream",
     "text": [
      "Coordinate {'Order': '0', 'X': '12711.2998', 'Y': '88778.1016'}\n",
      "(12711.2998, 88778.1016)\n",
      "Coordinate {'Order': '1', 'X': '12612.7998', 'Y': '88895.5'}\n",
      "(12612.7998, 88895.5)\n",
      "Coordinate {'Order': '2', 'X': '12597.7002', 'Y': '89050.7969'}\n",
      "(12597.7002, 89050.7969)\n",
      "Coordinate {'Order': '3', 'X': '12703.7002', 'Y': '89160.6016'}\n",
      "(12703.7002, 89160.6016)\n",
      "Coordinate {'Order': '4', 'X': '12855.0996', 'Y': '89130.2969'}\n",
      "(12855.0996, 89130.2969)\n",
      "Coordinate {'Order': '5', 'X': '12938.4004', 'Y': '89001.5'}\n",
      "(12938.4004, 89001.5)\n",
      "Coordinate {'Order': '6', 'X': '12896.7998', 'Y': '88853.8984'}\n",
      "(12896.7998, 88853.8984)\n",
      "Coordinate {'Order': '7', 'X': '12760.5', 'Y': '88785.7031'}\n",
      "(12760.5, 88785.7031)\n"
     ]
    }
   ],
   "source": [
    "for child in root[0][0][0]: # ASAP_Annotations / Annotations / Annotation\n",
    "    print(child.tag, child.attrib)\n",
    "    x = child.attrib['X']\n",
    "    print('({}, {})'.format(child.attrib['X'], child.attrib['Y']))"
   ]
  },
  {
   "cell_type": "code",
   "execution_count": 22,
   "id": "c3fda28f",
   "metadata": {},
   "outputs": [
    {
     "name": "stdout",
     "output_type": "stream",
     "text": [
      "Coordinate {'Order': '0', 'X': '12711.2998', 'Y': '88778.1016'}\n",
      "(12711.2998, 88778.1016)\n",
      "Coordinate {'Order': '1', 'X': '12612.7998', 'Y': '88895.5'}\n",
      "(12612.7998, 88895.5)\n",
      "Coordinate {'Order': '2', 'X': '12597.7002', 'Y': '89050.7969'}\n",
      "(12597.7002, 89050.7969)\n",
      "Coordinate {'Order': '3', 'X': '12703.7002', 'Y': '89160.6016'}\n",
      "(12703.7002, 89160.6016)\n",
      "Coordinate {'Order': '4', 'X': '12855.0996', 'Y': '89130.2969'}\n",
      "(12855.0996, 89130.2969)\n",
      "Coordinate {'Order': '5', 'X': '12938.4004', 'Y': '89001.5'}\n",
      "(12938.4004, 89001.5)\n",
      "Coordinate {'Order': '6', 'X': '12896.7998', 'Y': '88853.8984'}\n",
      "(12896.7998, 88853.8984)\n",
      "Coordinate {'Order': '7', 'X': '12760.5', 'Y': '88785.7031'}\n",
      "(12760.5, 88785.7031)\n"
     ]
    }
   ],
   "source": [
    "for annot in root[0][0]: # ASAP_Annotations / Annotations\n",
    "    for child in annot:  # Annotation\n",
    "        print(child.tag, child.attrib)\n",
    "        x = child.attrib['X']\n",
    "        print('({}, {})'.format(child.attrib['X'], child.attrib['Y']))"
   ]
  },
  {
   "cell_type": "code",
   "execution_count": 29,
   "id": "19f89826",
   "metadata": {},
   "outputs": [
    {
     "name": "stdout",
     "output_type": "stream",
     "text": [
      "left: 12597.7002, right: 12938.4004, top: 88778.1016, bottom: 89160.6016\n",
      "left: 13092.2998, right: 13482.7998, top: 87057.5, bottom: 87440.1016\n",
      "left: 10626.2002, right: 10809.5996, top: 75345.3984, bottom: 75855.5\n"
     ]
    }
   ],
   "source": [
    "for annot in root[0]: # ASAP_Annotations / Annotations\n",
    "    for coords in annot:\n",
    "        xs = []\n",
    "        ys = []\n",
    "        for coord in coords:\n",
    "            # print (coord.tag, coord.attrib)\n",
    "            xs.append(coord.attrib['X'])\n",
    "            ys.append(coord.attrib['Y'])\n",
    "        print('left: {}, right: {}, top: {}, bottom: {}'.format(min(xs), max(xs), min(ys), max(ys)))"
   ]
  },
  {
   "cell_type": "code",
   "execution_count": null,
   "id": "3dbc552e",
   "metadata": {},
   "outputs": [],
   "source": []
  }
 ],
 "metadata": {
  "kernelspec": {
   "display_name": "modelzoo_venv",
   "language": "python",
   "name": "python3"
  },
  "language_info": {
   "codemirror_mode": {
    "name": "ipython",
    "version": 3
   },
   "file_extension": ".py",
   "mimetype": "text/x-python",
   "name": "python",
   "nbconvert_exporter": "python",
   "pygments_lexer": "ipython3",
   "version": "3.8.17"
  }
 },
 "nbformat": 4,
 "nbformat_minor": 5
}
