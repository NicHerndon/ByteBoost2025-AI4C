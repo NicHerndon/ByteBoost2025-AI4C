{
 "cells": [
  {
   "cell_type": "markdown",
   "id": "2f38d484",
   "metadata": {},
   "source": [
    "# To do"
   ]
  }
 ],
 "metadata": {
  "kernelspec": {
   "display_name": "modelzoo_venv",
   "language": "python",
   "name": "python3"
  },
  "language_info": {
   "codemirror_mode": {
    "name": "ipython",
    "version": 3
   },
   "file_extension": ".py",
   "mimetype": "text/x-python",
   "name": "python",
   "nbconvert_exporter": "python",
   "pygments_lexer": "ipython3",
   "version": "3.8.17"
  }
 },
 "nbformat": 4,
 "nbformat_minor": 5
}
